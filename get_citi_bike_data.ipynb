{
 "cells": [
  {
   "cell_type": "markdown",
   "metadata": {},
   "source": [
    "# Needed imports\n",
    "Importing all the packages we need for the data we'll be using"
   ]
  },
  {
   "cell_type": "code",
   "execution_count": 1,
   "metadata": {},
   "outputs": [],
   "source": [
    "# web scraping\n",
    "from bs4 import BeautifulSoup\n",
    "import requests"
   ]
  },
  {
   "cell_type": "code",
   "execution_count": 16,
   "metadata": {},
   "outputs": [
    {
     "name": "stdout",
     "output_type": "stream",
     "text": [
      "There are 227 total files.\n"
     ]
    }
   ],
   "source": [
    "# below is the url where all the data lives\n",
    "url = 'https://s3.amazonaws.com/tripdata/'\n",
    "\n",
    "response = requests.get(url)\n",
    "\n",
    "soup = BeautifulSoup(response.text, 'xml')\n",
    "\n",
    "all_data_files = soup.find_all('Key')\n",
    "\n",
    "print(f'There are {len(all_data_files)} total files.')"
   ]
  },
  {
   "cell_type": "code",
   "execution_count": 25,
   "metadata": {},
   "outputs": [
    {
     "name": "stdout",
     "output_type": "stream",
     "text": [
      "<Key>201306-citibike-tripdata.zip</Key>\n"
     ]
    }
   ],
   "source": [
    "# Create a function to download files\n",
    "def download_file(url, save_path):\n",
    "    r = requests.get(url)\n",
    "    with open(save_path, 'wb') as file:\n",
    "        file.write(r.content)\n",
    "\n",
    "# Here we'll only grab NYC rides. We'll do this by first checking that the file is a .zip file and then ensuring that it doesn't contain 'JC' in the title.\n",
    "for each_file in all_data_files:\n",
    "    temp_file_name  = each_file.get_text()\n",
    "    temp_filetype   = temp_file_name[-4:]\n",
    "    \n",
    "    if temp_filetype == '.zip' and not('JC' in temp_file_name):\n",
    "        print(f'Downloading {temp_file_name}...')\n",
    "        \n",
    "        download_file(\n",
    "            url + temp_file_name,\n",
    "            'data/raw/'\n",
    "        )\n",
    "    \n",
    "    else:\n",
    "        print(f'Skpping {each_file}.')"
   ]
  },
  {
   "cell_type": "code",
   "execution_count": 35,
   "metadata": {},
   "outputs": [
    {
     "data": {
      "text/plain": [
       "'201306-citibike-tripdata.zip'"
      ]
     },
     "execution_count": 35,
     "metadata": {},
     "output_type": "execute_result"
    }
   ],
   "source": [
    "each.get_text()"
   ]
  },
  {
   "cell_type": "code",
   "execution_count": null,
   "metadata": {},
   "outputs": [],
   "source": []
  }
 ],
 "metadata": {
  "kernelspec": {
   "display_name": "Python 3",
   "language": "python",
   "name": "python3"
  },
  "language_info": {
   "codemirror_mode": {
    "name": "ipython",
    "version": 3
   },
   "file_extension": ".py",
   "mimetype": "text/x-python",
   "name": "python",
   "nbconvert_exporter": "python",
   "pygments_lexer": "ipython3",
   "version": "3.12.0"
  }
 },
 "nbformat": 4,
 "nbformat_minor": 2
}
